{
 "cells": [
  {
   "cell_type": "code",
   "execution_count": 1,
   "id": "46aaa2fb-a9da-443e-a0ee-cf5ed198819a",
   "metadata": {},
   "outputs": [
    {
     "name": "stdout",
     "output_type": "stream",
     "text": [
      "Welcome to Hand Cricket!\n"
     ]
    },
    {
     "name": "stdin",
     "output_type": "stream",
     "text": [
      "Do you want to bat or bowl first? (type 'bat' or 'bowl'):  bat\n"
     ]
    },
    {
     "name": "stdout",
     "output_type": "stream",
     "text": [
      "Your turn to bat!\n"
     ]
    },
    {
     "name": "stdin",
     "output_type": "stream",
     "text": [
      "Enter the number of runs you want to score (1-6):  3\n"
     ]
    },
    {
     "name": "stdout",
     "output_type": "stream",
     "text": [
      "Computer scored 3 runs.\n",
      "You are out!\n",
      "Computer's turn to bat!\n"
     ]
    },
    {
     "name": "stdin",
     "output_type": "stream",
     "text": [
      "Enter the number of runs you want the computer to score (1-6):  4\n"
     ]
    },
    {
     "name": "stdout",
     "output_type": "stream",
     "text": [
      "You scored 5 runs.\n",
      "Computer's score: 4\n",
      "Computer's turn to bat!\n"
     ]
    },
    {
     "name": "stdin",
     "output_type": "stream",
     "text": [
      "Enter the number of runs you want the computer to score (1-6):  2\n"
     ]
    },
    {
     "name": "stdout",
     "output_type": "stream",
     "text": [
      "You scored 5 runs.\n",
      "Computer's score: 6\n",
      "Computer's turn to bat!\n"
     ]
    },
    {
     "name": "stdin",
     "output_type": "stream",
     "text": [
      "Enter the number of runs you want the computer to score (1-6):  6\n"
     ]
    },
    {
     "name": "stdout",
     "output_type": "stream",
     "text": [
      "You scored 5 runs.\n",
      "Computer's score: 12\n",
      "Computer's turn to bat!\n"
     ]
    },
    {
     "name": "stdin",
     "output_type": "stream",
     "text": [
      "Enter the number of runs you want the computer to score (1-6):  3\n"
     ]
    },
    {
     "name": "stdout",
     "output_type": "stream",
     "text": [
      "You scored 5 runs.\n",
      "Computer's score: 15\n",
      "Computer's turn to bat!\n"
     ]
    },
    {
     "name": "stdin",
     "output_type": "stream",
     "text": [
      "Enter the number of runs you want the computer to score (1-6):  5\n"
     ]
    },
    {
     "name": "stdout",
     "output_type": "stream",
     "text": [
      "You scored 3 runs.\n",
      "Computer's score: 20\n",
      "Computer's turn to bat!\n"
     ]
    },
    {
     "name": "stdin",
     "output_type": "stream",
     "text": [
      "Enter the number of runs you want the computer to score (1-6):  1\n"
     ]
    },
    {
     "name": "stdout",
     "output_type": "stream",
     "text": [
      "You scored 3 runs.\n",
      "Computer's score: 21\n",
      "Computer's turn to bat!\n"
     ]
    },
    {
     "name": "stdin",
     "output_type": "stream",
     "text": [
      "Enter the number of runs you want the computer to score (1-6):  3\n"
     ]
    },
    {
     "name": "stdout",
     "output_type": "stream",
     "text": [
      "You scored 3 runs.\n",
      "Computer is out!\n",
      "Your turn to bat!\n"
     ]
    },
    {
     "name": "stdin",
     "output_type": "stream",
     "text": [
      "Enter the number of runs you want to score (1-6):  3\n"
     ]
    },
    {
     "name": "stdout",
     "output_type": "stream",
     "text": [
      "Computer scored 1 runs.\n",
      "Your score: 3\n",
      "Computer wins!\n"
     ]
    }
   ],
   "source": [
    "import random\n",
    "\n",
    "def hand_cricket():\n",
    "    print(\"Welcome to Hand Cricket!\")\n",
    "    choice = input(\"Do you want to bat or bowl first? (type 'bat' or 'bowl'): \")\n",
    "    if choice.lower() == 'bat':\n",
    "        your_turn = True\n",
    "        computer_batting = False\n",
    "    elif choice.lower() == 'bowl':\n",
    "        your_turn = False\n",
    "        computer_batting = True\n",
    "    else:\n",
    "        print(\"Invalid input. Please type 'bat' or 'bowl'.\")\n",
    "        return\n",
    "\n",
    "    your_score = 0\n",
    "    computer_score = 0\n",
    "\n",
    "    while True:\n",
    "        if your_turn:\n",
    "            print(\"Your turn to bat!\")\n",
    "            while True:\n",
    "                runs = int(input(\"Enter the number of runs you want to score (1-6): \"))\n",
    "                if runs < 1 or runs > 6:\n",
    "                    print(\"Invalid input. Please enter a number between 1 and 6.\")\n",
    "                else:\n",
    "                    break\n",
    "            computer_runs = random.randint(1, 6)\n",
    "            print(f\"Computer scored {computer_runs} runs.\")\n",
    "            if runs == computer_runs:\n",
    "                print(\"You are out!\")\n",
    "                your_turn = False\n",
    "                computer_batting = True\n",
    "            else:\n",
    "                your_score += runs\n",
    "                print(f\"Your score: {your_score}\")\n",
    "        else:\n",
    "            if computer_batting:\n",
    "                print(\"Computer's turn to bat!\")\n",
    "                while True:\n",
    "                    computer_runs = int(input(\"Enter the number of runs you want the computer to score (1-6): \"))\n",
    "                    if computer_runs < 1 or computer_runs > 6:\n",
    "                        print(\"Invalid input. Please enter a number between 1 and 6.\")\n",
    "                    else:\n",
    "                        break\n",
    "                runs = random.randint(1, 6)\n",
    "                print(f\"You scored {runs} runs.\")\n",
    "                if runs == computer_runs:\n",
    "                    print(\"Computer is out!\")\n",
    "                    your_turn = True\n",
    "                    computer_batting = False\n",
    "                else:\n",
    "                    computer_score += computer_runs\n",
    "                    print(f\"Computer's score: {computer_score}\")\n",
    "            else:\n",
    "                print(\"Your turn to bowl!\")\n",
    "                while True:\n",
    "                    runs = int(input(\"Enter the number of runs you want the computer to score (1-6): \"))\n",
    "                    if runs < 1 or runs > 6:\n",
    "                        print(\"Invalid input. Please enter a number between 1 and 6.\")\n",
    "                    else:\n",
    "                        break\n",
    "                computer_runs = random.randint(1, 6)\n",
    "                print(f\"Computer scored {computer_runs} runs.\")\n",
    "                if runs == computer_runs:\n",
    "                    print(\"Computer is out!\")\n",
    "                    your_turn = True\n",
    "                else:\n",
    "                    computer_score += computer_runs\n",
    "                    print(f\"Computer's score: {computer_score}\")\n",
    "\n",
    "        if your_score > 0 and computer_score > 0:\n",
    "            if your_score > computer_score:\n",
    "                print(\"You win!\")\n",
    "                break\n",
    "            elif your_score < computer_score:\n",
    "                print(\"Computer wins!\")\n",
    "                break\n",
    "\n",
    "hand_cricket()"
   ]
  }
 ],
 "metadata": {
  "kernelspec": {
   "display_name": "Python 3 (ipykernel)",
   "language": "python",
   "name": "python3"
  },
  "language_info": {
   "codemirror_mode": {
    "name": "ipython",
    "version": 3
   },
   "file_extension": ".py",
   "mimetype": "text/x-python",
   "name": "python",
   "nbconvert_exporter": "python",
   "pygments_lexer": "ipython3",
   "version": "3.12.4"
  }
 },
 "nbformat": 4,
 "nbformat_minor": 5
}
